{
  "nbformat": 4,
  "nbformat_minor": 0,
  "metadata": {
    "colab": {
      "provenance": []
    },
    "kernelspec": {
      "name": "python3",
      "display_name": "Python 3"
    },
    "language_info": {
      "name": "python"
    }
  },
  "cells": [
    {
      "cell_type": "markdown",
      "source": [
        "## **Exercise 2: Classification using MLP**"
      ],
      "metadata": {
        "id": "nUrlQEFgLyVt"
      }
    },
    {
      "cell_type": "code",
      "execution_count": 1,
      "metadata": {
        "colab": {
          "base_uri": "https://localhost:8080/"
        },
        "id": "FSH3h6dwLku1",
        "outputId": "2f192c3b-8d34-4cc2-a6ac-792ce23a3035"
      },
      "outputs": [
        {
          "output_type": "stream",
          "name": "stdout",
          "text": [
            "Predictions: [1 0 1 0 1 0 1 0]\n",
            "Accuracy: 1.0\n",
            "Precision: 1.0\n",
            "Recall: 1.0\n"
          ]
        },
        {
          "output_type": "stream",
          "name": "stderr",
          "text": [
            "/usr/local/lib/python3.11/dist-packages/sklearn/neural_network/_multilayer_perceptron.py:691: ConvergenceWarning: Stochastic Optimizer: Maximum iterations (1000) reached and the optimization hasn't converged yet.\n",
            "  warnings.warn(\n"
          ]
        }
      ],
      "source": [
        "import pandas as pd\n",
        "from sklearn.neural_network import MLPClassifier\n",
        "from sklearn.metrics import accuracy_score, precision_score, recall_score\n",
        "\n",
        "# Step 1: Create the DataFrame\n",
        "data2 = {\n",
        "    'W': [0, 1, 1, 0, 1, 0, 1, 1],\n",
        "    'X': [1, 0, 1, 1, 0, 1, 1, 0],\n",
        "    'Y': [0, 0, 1, 1, 1, 0, 1, 0],\n",
        "    'Z': [1, 1, 0, 0, 1, 0, 0, 1],\n",
        "    'G': [1, 0, 1, 0, 1, 0, 1, 0]\n",
        "}\n",
        "df2 = pd.DataFrame(data2)\n",
        "\n",
        "# Step 2: Split into input and output\n",
        "X2 = df2[['W', 'X', 'Y', 'Z']]\n",
        "y2 = df2['G']\n",
        "\n",
        "# Step 3: Create MLPClassifier\n",
        "clf = MLPClassifier(hidden_layer_sizes=(8, 4), activation='tanh', solver='adam', max_iter=1000, random_state=1)\n",
        "\n",
        "# Step 4: Train the model\n",
        "clf.fit(X2, y2)\n",
        "\n",
        "# Step 5: Make predictions and evaluate\n",
        "y_pred2 = clf.predict(X2)\n",
        "\n",
        "# Step 6: Metrics\n",
        "acc = accuracy_score(y2, y_pred2)\n",
        "prec = precision_score(y2, y_pred2)\n",
        "rec = recall_score(y2, y_pred2)\n",
        "\n",
        "print(\"Predictions:\", y_pred2)\n",
        "print(\"Accuracy:\", acc)\n",
        "print(\"Precision:\", prec)\n",
        "print(\"Recall:\", rec)\n"
      ]
    }
  ]
}