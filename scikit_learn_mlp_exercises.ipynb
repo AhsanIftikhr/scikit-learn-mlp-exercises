{
  "nbformat": 4,
  "nbformat_minor": 0,
  "metadata": {
    "colab": {
      "provenance": []
    },
    "kernelspec": {
      "name": "python3",
      "display_name": "Python 3"
    },
    "language_info": {
      "name": "python"
    }
  },
  "cells": [
    {
      "cell_type": "markdown",
      "source": [
        "## **Exercise 1: Regression using MLP**"
      ],
      "metadata": {
        "id": "oVptBP2LGPLb"
      }
    },
    {
      "cell_type": "code",
      "execution_count": 2,
      "metadata": {
        "colab": {
          "base_uri": "https://localhost:8080/"
        },
        "id": "3-LzUmut5NJv",
        "outputId": "978a41d8-5e73-4ab9-9f53-4a81d93b30f7"
      },
      "outputs": [
        {
          "output_type": "stream",
          "name": "stdout",
          "text": [
            "Predictions: [164.88919344 174.44782998 181.91358381 184.61394773 183.77623409\n",
            " 185.0717362  193.86529108 198.01656468]\n",
            "Regression Score (R2): 0.547587853387165\n",
            "Mean Squared Error: 307.753362733381\n"
          ]
        },
        {
          "output_type": "stream",
          "name": "stderr",
          "text": [
            "/usr/local/lib/python3.11/dist-packages/sklearn/neural_network/_multilayer_perceptron.py:691: ConvergenceWarning: Stochastic Optimizer: Maximum iterations (1000) reached and the optimization hasn't converged yet.\n",
            "  warnings.warn(\n"
          ]
        }
      ],
      "source": [
        " import pandas as pd\n",
        "from sklearn.neural_network import MLPRegressor\n",
        "from sklearn.metrics import mean_squared_error, r2_score\n",
        "\n",
        "# Step 1: Create the DataFrame\n",
        "data = {\n",
        "    'X1': [60, 62, 67, 70, 71, 72, 75, 78],\n",
        "    'X2': [22, 25, 24, 20, 15, 14, 14, 11],\n",
        "    'X3': [15, 15, 14, 14, 13, 12, 12, 11],\n",
        "    'X4': [2.5, 2.7, 2.9, 2.8, 3.5, 3.8, 3.9, 4.1],\n",
        "    'X5': [6, 7.5, 9, 11, 14, 15.5, 18, 21],\n",
        "    'Y':  [140, 155, 159, 179, 192, 200, 212, 215]\n",
        "}\n",
        "df = pd.DataFrame(data)\n",
        "\n",
        "# Step 2: Split into input and output\n",
        "X = df[['X1', 'X2', 'X3', 'X4', 'X5']]\n",
        "y = df['Y']\n",
        "\n",
        "# Step 3: Create MLPRegressor\n",
        "model = MLPRegressor(hidden_layer_sizes=(10,), activation='relu', solver='adam', random_state=1, max_iter=1000)\n",
        "\n",
        "# Step 4: Train the model\n",
        "model.fit(X, y)\n",
        "\n",
        "# Step 5: Make predictions and evaluate\n",
        "y_pred = model.predict(X)\n",
        "score = r2_score(y, y_pred)\n",
        "mse = mean_squared_error(y, y_pred)\n",
        "\n",
        "print(\"Predictions:\", y_pred)\n",
        "print(\"Regression Score (R2):\", score)\n",
        "print(\"Mean Squared Error:\", mse)\n"
      ]
    }
  ]
}